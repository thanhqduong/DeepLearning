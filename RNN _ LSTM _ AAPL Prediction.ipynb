{
 "cells": [
  {
   "cell_type": "code",
   "execution_count": 1,
   "metadata": {
    "executionInfo": {
     "elapsed": 105,
     "status": "ok",
     "timestamp": 1654989776223,
     "user": {
      "displayName": "Thanh Duong",
      "userId": "16342126098913789385"
     },
     "user_tz": 240
    },
    "id": "toHrvvHlmhQz"
   },
   "outputs": [],
   "source": [
    "import warnings\n",
    "warnings.filterwarnings('ignore')"
   ]
  },
  {
   "cell_type": "markdown",
   "metadata": {
    "id": "65VmnfAJphP3"
   },
   "source": [
    "### One to One"
   ]
  },
  {
   "cell_type": "code",
   "execution_count": 3,
   "metadata": {
    "executionInfo": {
     "elapsed": 7077,
     "status": "ok",
     "timestamp": 1654989786577,
     "user": {
      "displayName": "Thanh Duong",
      "userId": "16342126098913789385"
     },
     "user_tz": 240
    },
    "id": "0DM0p7C6msFe"
   },
   "outputs": [],
   "source": [
    "import numpy\n",
    "import matplotlib.pyplot as plt\n",
    "import math\n",
    "import pandas as pd\n",
    "from tensorflow.keras import Sequential\n",
    "from tensorflow.keras.layers import Dense\n",
    "from tensorflow.keras.layers import LSTM\n",
    "from sklearn.preprocessing import MinMaxScaler\n",
    "from sklearn.metrics import mean_squared_error, mean_absolute_error"
   ]
  },
  {
   "cell_type": "code",
   "execution_count": 4,
   "metadata": {
    "executionInfo": {
     "elapsed": 24,
     "status": "ok",
     "timestamp": 1654989786578,
     "user": {
      "displayName": "Thanh Duong",
      "userId": "16342126098913789385"
     },
     "user_tz": 240
    },
    "id": "vluQxwjgm0NT"
   },
   "outputs": [],
   "source": [
    "def create_dataset(dataset, look_back=1):\n",
    "  dataX, dataY = [], []\n",
    "  for i in range(len(dataset)-look_back-1):\n",
    "  #t\n",
    "    a = dataset[i:(i+look_back), 0]\n",
    "    dataX.append(a)\n",
    "  #t+1\n",
    "    dataY.append(dataset[i + look_back, 0])\n",
    "  return numpy.array(dataX), numpy.array(dataY)"
   ]
  },
  {
   "cell_type": "code",
   "execution_count": 5,
   "metadata": {
    "colab": {
     "base_uri": "https://localhost:8080/",
     "height": 238
    },
    "executionInfo": {
     "elapsed": 156,
     "status": "ok",
     "timestamp": 1654989786713,
     "user": {
      "displayName": "Thanh Duong",
      "userId": "16342126098913789385"
     },
     "user_tz": 240
    },
    "id": "GHH1bhyEm00o",
    "outputId": "f3bdd8ab-0214-40cd-8c7d-3e575957c925"
   },
   "outputs": [
    {
     "data": {
      "text/html": [
       "\n",
       "  <div id=\"df-6017b99d-8dc4-4440-a33f-bddcc197f166\">\n",
       "    <div class=\"colab-df-container\">\n",
       "      <div>\n",
       "<style scoped>\n",
       "    .dataframe tbody tr th:only-of-type {\n",
       "        vertical-align: middle;\n",
       "    }\n",
       "\n",
       "    .dataframe tbody tr th {\n",
       "        vertical-align: top;\n",
       "    }\n",
       "\n",
       "    .dataframe thead th {\n",
       "        text-align: right;\n",
       "    }\n",
       "</style>\n",
       "<table border=\"1\" class=\"dataframe\">\n",
       "  <thead>\n",
       "    <tr style=\"text-align: right;\">\n",
       "      <th></th>\n",
       "      <th>Open</th>\n",
       "      <th>High</th>\n",
       "      <th>Low</th>\n",
       "      <th>Close</th>\n",
       "      <th>Adj Close</th>\n",
       "      <th>Volume</th>\n",
       "    </tr>\n",
       "    <tr>\n",
       "      <th>Date</th>\n",
       "      <th></th>\n",
       "      <th></th>\n",
       "      <th></th>\n",
       "      <th></th>\n",
       "      <th></th>\n",
       "      <th></th>\n",
       "    </tr>\n",
       "  </thead>\n",
       "  <tbody>\n",
       "    <tr>\n",
       "      <th>2016-11-14</th>\n",
       "      <td>26.927500</td>\n",
       "      <td>26.952499</td>\n",
       "      <td>26.020000</td>\n",
       "      <td>26.427500</td>\n",
       "      <td>24.825821</td>\n",
       "      <td>204702000</td>\n",
       "    </tr>\n",
       "    <tr>\n",
       "      <th>2016-11-15</th>\n",
       "      <td>26.642500</td>\n",
       "      <td>26.920000</td>\n",
       "      <td>26.540001</td>\n",
       "      <td>26.777500</td>\n",
       "      <td>25.154610</td>\n",
       "      <td>129058000</td>\n",
       "    </tr>\n",
       "    <tr>\n",
       "      <th>2016-11-16</th>\n",
       "      <td>26.674999</td>\n",
       "      <td>27.557501</td>\n",
       "      <td>26.650000</td>\n",
       "      <td>27.497499</td>\n",
       "      <td>25.830971</td>\n",
       "      <td>235362000</td>\n",
       "    </tr>\n",
       "    <tr>\n",
       "      <th>2016-11-17</th>\n",
       "      <td>27.452499</td>\n",
       "      <td>27.587500</td>\n",
       "      <td>27.207500</td>\n",
       "      <td>27.487499</td>\n",
       "      <td>25.821573</td>\n",
       "      <td>110528000</td>\n",
       "    </tr>\n",
       "    <tr>\n",
       "      <th>2016-11-18</th>\n",
       "      <td>27.430000</td>\n",
       "      <td>27.635000</td>\n",
       "      <td>27.415001</td>\n",
       "      <td>27.514999</td>\n",
       "      <td>25.847408</td>\n",
       "      <td>113715600</td>\n",
       "    </tr>\n",
       "  </tbody>\n",
       "</table>\n",
       "</div>\n",
       "      <button class=\"colab-df-convert\" onclick=\"convertToInteractive('df-6017b99d-8dc4-4440-a33f-bddcc197f166')\"\n",
       "              title=\"Convert this dataframe to an interactive table.\"\n",
       "              style=\"display:none;\">\n",
       "        \n",
       "  <svg xmlns=\"http://www.w3.org/2000/svg\" height=\"24px\"viewBox=\"0 0 24 24\"\n",
       "       width=\"24px\">\n",
       "    <path d=\"M0 0h24v24H0V0z\" fill=\"none\"/>\n",
       "    <path d=\"M18.56 5.44l.94 2.06.94-2.06 2.06-.94-2.06-.94-.94-2.06-.94 2.06-2.06.94zm-11 1L8.5 8.5l.94-2.06 2.06-.94-2.06-.94L8.5 2.5l-.94 2.06-2.06.94zm10 10l.94 2.06.94-2.06 2.06-.94-2.06-.94-.94-2.06-.94 2.06-2.06.94z\"/><path d=\"M17.41 7.96l-1.37-1.37c-.4-.4-.92-.59-1.43-.59-.52 0-1.04.2-1.43.59L10.3 9.45l-7.72 7.72c-.78.78-.78 2.05 0 2.83L4 21.41c.39.39.9.59 1.41.59.51 0 1.02-.2 1.41-.59l7.78-7.78 2.81-2.81c.8-.78.8-2.07 0-2.86zM5.41 20L4 18.59l7.72-7.72 1.47 1.35L5.41 20z\"/>\n",
       "  </svg>\n",
       "      </button>\n",
       "      \n",
       "  <style>\n",
       "    .colab-df-container {\n",
       "      display:flex;\n",
       "      flex-wrap:wrap;\n",
       "      gap: 12px;\n",
       "    }\n",
       "\n",
       "    .colab-df-convert {\n",
       "      background-color: #E8F0FE;\n",
       "      border: none;\n",
       "      border-radius: 50%;\n",
       "      cursor: pointer;\n",
       "      display: none;\n",
       "      fill: #1967D2;\n",
       "      height: 32px;\n",
       "      padding: 0 0 0 0;\n",
       "      width: 32px;\n",
       "    }\n",
       "\n",
       "    .colab-df-convert:hover {\n",
       "      background-color: #E2EBFA;\n",
       "      box-shadow: 0px 1px 2px rgba(60, 64, 67, 0.3), 0px 1px 3px 1px rgba(60, 64, 67, 0.15);\n",
       "      fill: #174EA6;\n",
       "    }\n",
       "\n",
       "    [theme=dark] .colab-df-convert {\n",
       "      background-color: #3B4455;\n",
       "      fill: #D2E3FC;\n",
       "    }\n",
       "\n",
       "    [theme=dark] .colab-df-convert:hover {\n",
       "      background-color: #434B5C;\n",
       "      box-shadow: 0px 1px 3px 1px rgba(0, 0, 0, 0.15);\n",
       "      filter: drop-shadow(0px 1px 2px rgba(0, 0, 0, 0.3));\n",
       "      fill: #FFFFFF;\n",
       "    }\n",
       "  </style>\n",
       "\n",
       "      <script>\n",
       "        const buttonEl =\n",
       "          document.querySelector('#df-6017b99d-8dc4-4440-a33f-bddcc197f166 button.colab-df-convert');\n",
       "        buttonEl.style.display =\n",
       "          google.colab.kernel.accessAllowed ? 'block' : 'none';\n",
       "\n",
       "        async function convertToInteractive(key) {\n",
       "          const element = document.querySelector('#df-6017b99d-8dc4-4440-a33f-bddcc197f166');\n",
       "          const dataTable =\n",
       "            await google.colab.kernel.invokeFunction('convertToInteractive',\n",
       "                                                     [key], {});\n",
       "          if (!dataTable) return;\n",
       "\n",
       "          const docLinkHtml = 'Like what you see? Visit the ' +\n",
       "            '<a target=\"_blank\" href=https://colab.research.google.com/notebooks/data_table.ipynb>data table notebook</a>'\n",
       "            + ' to learn more about interactive tables.';\n",
       "          element.innerHTML = '';\n",
       "          dataTable['output_type'] = 'display_data';\n",
       "          await google.colab.output.renderOutput(dataTable, element);\n",
       "          const docLink = document.createElement('div');\n",
       "          docLink.innerHTML = docLinkHtml;\n",
       "          element.appendChild(docLink);\n",
       "        }\n",
       "      </script>\n",
       "    </div>\n",
       "  </div>\n",
       "  "
      ],
      "text/plain": [
       "                 Open       High        Low      Close  Adj Close     Volume\n",
       "Date                                                                        \n",
       "2016-11-14  26.927500  26.952499  26.020000  26.427500  24.825821  204702000\n",
       "2016-11-15  26.642500  26.920000  26.540001  26.777500  25.154610  129058000\n",
       "2016-11-16  26.674999  27.557501  26.650000  27.497499  25.830971  235362000\n",
       "2016-11-17  27.452499  27.587500  27.207500  27.487499  25.821573  110528000\n",
       "2016-11-18  27.430000  27.635000  27.415001  27.514999  25.847408  113715600"
      ]
     },
     "execution_count": 5,
     "metadata": {},
     "output_type": "execute_result"
    }
   ],
   "source": [
    "numpy.random.seed(7)\n",
    "# load the dataset\n",
    "dataframe = pd.read_csv('AAPL.csv', index_col= 0)\n",
    "dataframe.head()"
   ]
  },
  {
   "cell_type": "code",
   "execution_count": 6,
   "metadata": {
    "executionInfo": {
     "elapsed": 8,
     "status": "ok",
     "timestamp": 1654989786714,
     "user": {
      "displayName": "Thanh Duong",
      "userId": "16342126098913789385"
     },
     "user_tz": 240
    },
    "id": "FrtguQEXm-IE"
   },
   "outputs": [],
   "source": [
    "dataset = dataframe[[\"Open\"]]\n",
    "dataset = dataset.values.astype('float32')"
   ]
  },
  {
   "cell_type": "code",
   "execution_count": 7,
   "metadata": {
    "executionInfo": {
     "elapsed": 131,
     "status": "ok",
     "timestamp": 1654989786838,
     "user": {
      "displayName": "Thanh Duong",
      "userId": "16342126098913789385"
     },
     "user_tz": 240
    },
    "id": "g4saFh9CnD-S"
   },
   "outputs": [],
   "source": [
    "import matplotlib.pyplot as plt\n",
    "import seaborn as sns"
   ]
  },
  {
   "cell_type": "code",
   "execution_count": 8,
   "metadata": {
    "colab": {
     "base_uri": "https://localhost:8080/"
    },
    "executionInfo": {
     "elapsed": 9,
     "status": "ok",
     "timestamp": 1654989786839,
     "user": {
      "displayName": "Thanh Duong",
      "userId": "16342126098913789385"
     },
     "user_tz": 240
    },
    "id": "8Buudw23nG21",
    "outputId": "b4f14ce7-9f14-4843-96e8-99d9db97ffba"
   },
   "outputs": [
    {
     "data": {
      "text/plain": [
       "22.796913"
      ]
     },
     "execution_count": 8,
     "metadata": {},
     "output_type": "execute_result"
    }
   ],
   "source": [
    "dataset.std()"
   ]
  },
  {
   "cell_type": "code",
   "execution_count": 9,
   "metadata": {
    "executionInfo": {
     "elapsed": 7,
     "status": "ok",
     "timestamp": 1654989786839,
     "user": {
      "displayName": "Thanh Duong",
      "userId": "16342126098913789385"
     },
     "user_tz": 240
    },
    "id": "UU2vOc5cnMG_"
   },
   "outputs": [],
   "source": [
    "# normalize the dataset\n",
    "scaler = MinMaxScaler(feature_range=(0, 1))\n",
    "dataset = scaler.fit_transform(dataset)"
   ]
  },
  {
   "cell_type": "code",
   "execution_count": 10,
   "metadata": {
    "executionInfo": {
     "elapsed": 7,
     "status": "ok",
     "timestamp": 1654989786840,
     "user": {
      "displayName": "Thanh Duong",
      "userId": "16342126098913789385"
     },
     "user_tz": 240
    },
    "id": "Cor-_tTHnO13"
   },
   "outputs": [],
   "source": [
    "# split into train and test sets\n",
    "train_size = int(len(dataset) * 0.67)\n",
    "test_size = len(dataset) - train_size\n",
    "train, test = dataset[0:train_size,:], dataset[train_size:len(dataset),:]"
   ]
  },
  {
   "cell_type": "code",
   "execution_count": 11,
   "metadata": {
    "executionInfo": {
     "elapsed": 114,
     "status": "ok",
     "timestamp": 1654989786947,
     "user": {
      "displayName": "Thanh Duong",
      "userId": "16342126098913789385"
     },
     "user_tz": 240
    },
    "id": "vhzSbiV3nwGA"
   },
   "outputs": [],
   "source": [
    "look_back = 1\n",
    "trainX, trainY = create_dataset(train, look_back)\n",
    "testX, testY = create_dataset(test, look_back)"
   ]
  },
  {
   "cell_type": "code",
   "execution_count": 12,
   "metadata": {
    "colab": {
     "base_uri": "https://localhost:8080/"
    },
    "executionInfo": {
     "elapsed": 11,
     "status": "ok",
     "timestamp": 1654989786948,
     "user": {
      "displayName": "Thanh Duong",
      "userId": "16342126098913789385"
     },
     "user_tz": 240
    },
    "id": "yDl_6xuWnyme",
    "outputId": "9287aabb-cadd-4066-fd1b-1dcf5d41468a"
   },
   "outputs": [
    {
     "name": "stdout",
     "output_type": "stream",
     "text": [
      "[0.         0.00029293 0.00730075 0.00709796 0.00799929]\n"
     ]
    }
   ],
   "source": [
    "print(trainY[:5])"
   ]
  },
  {
   "cell_type": "code",
   "execution_count": 13,
   "metadata": {
    "colab": {
     "base_uri": "https://localhost:8080/"
    },
    "executionInfo": {
     "elapsed": 10,
     "status": "ok",
     "timestamp": 1654989786948,
     "user": {
      "displayName": "Thanh Duong",
      "userId": "16342126098913789385"
     },
     "user_tz": 240
    },
    "id": "BxF5631xn0Ip",
    "outputId": "fcc20ab4-0df6-441a-e768-36c94726be3d"
   },
   "outputs": [
    {
     "name": "stdout",
     "output_type": "stream",
     "text": [
      "[[0.22781047]\n",
      " [0.23055953]\n",
      " [0.22738233]\n",
      " [0.22959062]\n",
      " [0.23026657]]\n",
      "[0.23055953 0.22738233 0.22959062 0.23026657 0.247527  ]\n"
     ]
    }
   ],
   "source": [
    "print(testX[:5])\n",
    "print(testY[:5])"
   ]
  },
  {
   "cell_type": "code",
   "execution_count": 14,
   "metadata": {
    "executionInfo": {
     "elapsed": 108,
     "status": "ok",
     "timestamp": 1654989787050,
     "user": {
      "displayName": "Thanh Duong",
      "userId": "16342126098913789385"
     },
     "user_tz": 240
    },
    "id": "kQKgJdZfn1_x"
   },
   "outputs": [],
   "source": [
    "trainX = numpy.reshape(trainX, (trainX.shape[0], 1, trainX.shape[1]))\n",
    "testX = numpy.reshape(testX, (testX.shape[0], 1, testX.shape[1]))"
   ]
  },
  {
   "cell_type": "code",
   "execution_count": 15,
   "metadata": {
    "executionInfo": {
     "elapsed": 874,
     "status": "ok",
     "timestamp": 1654989787922,
     "user": {
      "displayName": "Thanh Duong",
      "userId": "16342126098913789385"
     },
     "user_tz": 240
    },
    "id": "YY1k84mln3nT"
   },
   "outputs": [],
   "source": [
    "model = Sequential()\n",
    "model.add(LSTM(32, input_shape=(1, look_back))) # 64, ...\n",
    "model.add(Dense(1))"
   ]
  },
  {
   "cell_type": "code",
   "execution_count": 16,
   "metadata": {
    "colab": {
     "base_uri": "https://localhost:8080/"
    },
    "executionInfo": {
     "elapsed": 20,
     "status": "ok",
     "timestamp": 1654989787923,
     "user": {
      "displayName": "Thanh Duong",
      "userId": "16342126098913789385"
     },
     "user_tz": 240
    },
    "id": "zWo7qcOtoVal",
    "outputId": "9cd15c76-9345-4d0f-9639-09f17ad5d0c5"
   },
   "outputs": [
    {
     "name": "stdout",
     "output_type": "stream",
     "text": [
      "Model: \"sequential\"\n",
      "_________________________________________________________________\n",
      " Layer (type)                Output Shape              Param #   \n",
      "=================================================================\n",
      " lstm (LSTM)                 (None, 32)                4352      \n",
      "                                                                 \n",
      " dense (Dense)               (None, 1)                 33        \n",
      "                                                                 \n",
      "=================================================================\n",
      "Total params: 4,385\n",
      "Trainable params: 4,385\n",
      "Non-trainable params: 0\n",
      "_________________________________________________________________\n"
     ]
    }
   ],
   "source": [
    "model.summary()"
   ]
  },
  {
   "cell_type": "code",
   "execution_count": 17,
   "metadata": {
    "executionInfo": {
     "elapsed": 139,
     "status": "ok",
     "timestamp": 1654989788054,
     "user": {
      "displayName": "Thanh Duong",
      "userId": "16342126098913789385"
     },
     "user_tz": 240
    },
    "id": "SXgl_bbroXFK"
   },
   "outputs": [],
   "source": [
    "from tensorflow.keras.callbacks import EarlyStopping\n",
    "early_stopping = EarlyStopping(\n",
    "    min_delta=0.0001, # minimium amount of change to count as an improvement\n",
    "    patience=20, # how many epochs to wait before stopping\n",
    "    restore_best_weights=True,\n",
    ")"
   ]
  },
  {
   "cell_type": "code",
   "execution_count": 18,
   "metadata": {
    "colab": {
     "base_uri": "https://localhost:8080/"
    },
    "executionInfo": {
     "elapsed": 21180,
     "status": "ok",
     "timestamp": 1654989809231,
     "user": {
      "displayName": "Thanh Duong",
      "userId": "16342126098913789385"
     },
     "user_tz": 240
    },
    "id": "FAO6tIqCoZRv",
    "outputId": "f97be88e-0680-4719-9c21-aa88227bf50c"
   },
   "outputs": [
    {
     "name": "stdout",
     "output_type": "stream",
     "text": [
      "Epoch 1/100\n",
      "6/6 [==============================] - 7s 398ms/step - loss: 0.0192 - val_loss: 0.2149\n",
      "Epoch 2/100\n",
      "6/6 [==============================] - 0s 24ms/step - loss: 0.0148 - val_loss: 0.1943\n",
      "Epoch 3/100\n",
      "6/6 [==============================] - 0s 23ms/step - loss: 0.0111 - val_loss: 0.1750\n",
      "Epoch 4/100\n",
      "6/6 [==============================] - 0s 28ms/step - loss: 0.0082 - val_loss: 0.1572\n",
      "Epoch 5/100\n",
      "6/6 [==============================] - 0s 19ms/step - loss: 0.0059 - val_loss: 0.1410\n",
      "Epoch 6/100\n",
      "6/6 [==============================] - 0s 20ms/step - loss: 0.0043 - val_loss: 0.1268\n",
      "Epoch 7/100\n",
      "6/6 [==============================] - 0s 13ms/step - loss: 0.0033 - val_loss: 0.1150\n",
      "Epoch 8/100\n",
      "6/6 [==============================] - 0s 33ms/step - loss: 0.0028 - val_loss: 0.1059\n",
      "Epoch 9/100\n",
      "6/6 [==============================] - 0s 24ms/step - loss: 0.0025 - val_loss: 0.0994\n",
      "Epoch 10/100\n",
      "6/6 [==============================] - 0s 23ms/step - loss: 0.0025 - val_loss: 0.0951\n",
      "Epoch 11/100\n",
      "6/6 [==============================] - 0s 20ms/step - loss: 0.0025 - val_loss: 0.0929\n",
      "Epoch 12/100\n",
      "6/6 [==============================] - 0s 31ms/step - loss: 0.0025 - val_loss: 0.0924\n",
      "Epoch 13/100\n",
      "6/6 [==============================] - 0s 24ms/step - loss: 0.0024 - val_loss: 0.0921\n",
      "Epoch 14/100\n",
      "6/6 [==============================] - 0s 20ms/step - loss: 0.0024 - val_loss: 0.0919\n",
      "Epoch 15/100\n",
      "6/6 [==============================] - 0s 19ms/step - loss: 0.0024 - val_loss: 0.0911\n",
      "Epoch 16/100\n",
      "6/6 [==============================] - 0s 18ms/step - loss: 0.0023 - val_loss: 0.0902\n",
      "Epoch 17/100\n",
      "6/6 [==============================] - 0s 27ms/step - loss: 0.0023 - val_loss: 0.0888\n",
      "Epoch 18/100\n",
      "6/6 [==============================] - 0s 28ms/step - loss: 0.0022 - val_loss: 0.0871\n",
      "Epoch 19/100\n",
      "6/6 [==============================] - 0s 17ms/step - loss: 0.0022 - val_loss: 0.0853\n",
      "Epoch 20/100\n",
      "6/6 [==============================] - 0s 27ms/step - loss: 0.0022 - val_loss: 0.0834\n",
      "Epoch 21/100\n",
      "6/6 [==============================] - 0s 27ms/step - loss: 0.0021 - val_loss: 0.0814\n",
      "Epoch 22/100\n",
      "6/6 [==============================] - 0s 40ms/step - loss: 0.0021 - val_loss: 0.0797\n",
      "Epoch 23/100\n",
      "6/6 [==============================] - 0s 41ms/step - loss: 0.0020 - val_loss: 0.0780\n",
      "Epoch 24/100\n",
      "6/6 [==============================] - 0s 35ms/step - loss: 0.0020 - val_loss: 0.0762\n",
      "Epoch 25/100\n",
      "6/6 [==============================] - 0s 23ms/step - loss: 0.0020 - val_loss: 0.0741\n",
      "Epoch 26/100\n",
      "6/6 [==============================] - 0s 19ms/step - loss: 0.0019 - val_loss: 0.0722\n",
      "Epoch 27/100\n",
      "6/6 [==============================] - 0s 30ms/step - loss: 0.0019 - val_loss: 0.0704\n",
      "Epoch 28/100\n",
      "6/6 [==============================] - 0s 22ms/step - loss: 0.0018 - val_loss: 0.0687\n",
      "Epoch 29/100\n",
      "6/6 [==============================] - 0s 23ms/step - loss: 0.0018 - val_loss: 0.0668\n",
      "Epoch 30/100\n",
      "6/6 [==============================] - 0s 29ms/step - loss: 0.0017 - val_loss: 0.0647\n",
      "Epoch 31/100\n",
      "6/6 [==============================] - 0s 23ms/step - loss: 0.0017 - val_loss: 0.0624\n",
      "Epoch 32/100\n",
      "6/6 [==============================] - 0s 16ms/step - loss: 0.0017 - val_loss: 0.0603\n",
      "Epoch 33/100\n",
      "6/6 [==============================] - 0s 23ms/step - loss: 0.0016 - val_loss: 0.0586\n",
      "Epoch 34/100\n",
      "6/6 [==============================] - 0s 19ms/step - loss: 0.0016 - val_loss: 0.0567\n",
      "Epoch 35/100\n",
      "6/6 [==============================] - 0s 27ms/step - loss: 0.0015 - val_loss: 0.0551\n",
      "Epoch 36/100\n",
      "6/6 [==============================] - 0s 28ms/step - loss: 0.0015 - val_loss: 0.0534\n",
      "Epoch 37/100\n",
      "6/6 [==============================] - 0s 28ms/step - loss: 0.0014 - val_loss: 0.0517\n",
      "Epoch 38/100\n",
      "6/6 [==============================] - 0s 31ms/step - loss: 0.0014 - val_loss: 0.0496\n",
      "Epoch 39/100\n",
      "6/6 [==============================] - 0s 21ms/step - loss: 0.0013 - val_loss: 0.0470\n",
      "Epoch 40/100\n",
      "6/6 [==============================] - 0s 30ms/step - loss: 0.0013 - val_loss: 0.0448\n",
      "Epoch 41/100\n",
      "6/6 [==============================] - 0s 15ms/step - loss: 0.0012 - val_loss: 0.0429\n",
      "Epoch 42/100\n",
      "6/6 [==============================] - 0s 23ms/step - loss: 0.0012 - val_loss: 0.0412\n",
      "Epoch 43/100\n",
      "6/6 [==============================] - 0s 16ms/step - loss: 0.0011 - val_loss: 0.0393\n",
      "Epoch 44/100\n",
      "6/6 [==============================] - 0s 17ms/step - loss: 0.0011 - val_loss: 0.0374\n",
      "Epoch 45/100\n",
      "6/6 [==============================] - 0s 19ms/step - loss: 0.0011 - val_loss: 0.0352\n",
      "Epoch 46/100\n",
      "6/6 [==============================] - 0s 22ms/step - loss: 0.0010 - val_loss: 0.0332\n",
      "Epoch 47/100\n",
      "6/6 [==============================] - 0s 27ms/step - loss: 9.6176e-04 - val_loss: 0.0315\n",
      "Epoch 48/100\n",
      "6/6 [==============================] - 0s 18ms/step - loss: 9.1628e-04 - val_loss: 0.0294\n",
      "Epoch 49/100\n",
      "6/6 [==============================] - 0s 18ms/step - loss: 8.7095e-04 - val_loss: 0.0276\n",
      "Epoch 50/100\n",
      "6/6 [==============================] - 0s 19ms/step - loss: 8.2569e-04 - val_loss: 0.0257\n",
      "Epoch 51/100\n",
      "6/6 [==============================] - 0s 24ms/step - loss: 7.8125e-04 - val_loss: 0.0240\n",
      "Epoch 52/100\n",
      "6/6 [==============================] - 0s 33ms/step - loss: 7.3809e-04 - val_loss: 0.0223\n",
      "Epoch 53/100\n",
      "6/6 [==============================] - 0s 36ms/step - loss: 6.9491e-04 - val_loss: 0.0206\n",
      "Epoch 54/100\n",
      "6/6 [==============================] - 0s 16ms/step - loss: 6.5339e-04 - val_loss: 0.0191\n",
      "Epoch 55/100\n",
      "6/6 [==============================] - 0s 17ms/step - loss: 6.1295e-04 - val_loss: 0.0176\n",
      "Epoch 56/100\n",
      "6/6 [==============================] - 0s 24ms/step - loss: 5.7326e-04 - val_loss: 0.0159\n",
      "Epoch 57/100\n",
      "6/6 [==============================] - 0s 19ms/step - loss: 5.3463e-04 - val_loss: 0.0144\n",
      "Epoch 58/100\n",
      "6/6 [==============================] - 0s 19ms/step - loss: 4.9788e-04 - val_loss: 0.0129\n",
      "Epoch 59/100\n",
      "6/6 [==============================] - 0s 17ms/step - loss: 4.6142e-04 - val_loss: 0.0115\n",
      "Epoch 60/100\n",
      "6/6 [==============================] - 0s 20ms/step - loss: 4.2628e-04 - val_loss: 0.0105\n",
      "Epoch 61/100\n",
      "6/6 [==============================] - 0s 18ms/step - loss: 3.9394e-04 - val_loss: 0.0093\n",
      "Epoch 62/100\n",
      "6/6 [==============================] - 0s 26ms/step - loss: 3.6262e-04 - val_loss: 0.0083\n",
      "Epoch 63/100\n",
      "6/6 [==============================] - 0s 23ms/step - loss: 3.3377e-04 - val_loss: 0.0073\n",
      "Epoch 64/100\n",
      "6/6 [==============================] - 0s 26ms/step - loss: 3.0459e-04 - val_loss: 0.0062\n",
      "Epoch 65/100\n",
      "6/6 [==============================] - 0s 21ms/step - loss: 2.7865e-04 - val_loss: 0.0053\n",
      "Epoch 66/100\n",
      "6/6 [==============================] - 0s 19ms/step - loss: 2.5397e-04 - val_loss: 0.0046\n",
      "Epoch 67/100\n",
      "6/6 [==============================] - 0s 27ms/step - loss: 2.3095e-04 - val_loss: 0.0039\n",
      "Epoch 68/100\n",
      "6/6 [==============================] - 0s 34ms/step - loss: 2.0948e-04 - val_loss: 0.0034\n",
      "Epoch 69/100\n",
      "6/6 [==============================] - 0s 17ms/step - loss: 1.8966e-04 - val_loss: 0.0029\n",
      "Epoch 70/100\n",
      "6/6 [==============================] - 0s 19ms/step - loss: 1.7198e-04 - val_loss: 0.0024\n",
      "Epoch 71/100\n",
      "6/6 [==============================] - 0s 17ms/step - loss: 1.5452e-04 - val_loss: 0.0019\n",
      "Epoch 72/100\n",
      "6/6 [==============================] - 0s 16ms/step - loss: 1.3929e-04 - val_loss: 0.0015\n",
      "Epoch 73/100\n",
      "6/6 [==============================] - 0s 18ms/step - loss: 1.2589e-04 - val_loss: 0.0013\n",
      "Epoch 74/100\n",
      "6/6 [==============================] - 0s 19ms/step - loss: 1.1313e-04 - val_loss: 0.0011\n",
      "Epoch 75/100\n",
      "6/6 [==============================] - 0s 17ms/step - loss: 1.0281e-04 - val_loss: 9.0467e-04\n",
      "Epoch 76/100\n",
      "6/6 [==============================] - 0s 17ms/step - loss: 9.2968e-05 - val_loss: 7.5397e-04\n",
      "Epoch 77/100\n",
      "6/6 [==============================] - 0s 17ms/step - loss: 8.5113e-05 - val_loss: 6.4991e-04\n",
      "Epoch 78/100\n",
      "6/6 [==============================] - 0s 17ms/step - loss: 7.7416e-05 - val_loss: 6.2560e-04\n",
      "Epoch 79/100\n",
      "6/6 [==============================] - 0s 16ms/step - loss: 7.0957e-05 - val_loss: 6.0354e-04\n",
      "Epoch 80/100\n",
      "6/6 [==============================] - 0s 19ms/step - loss: 6.5317e-05 - val_loss: 5.9566e-04\n",
      "Epoch 81/100\n",
      "6/6 [==============================] - 0s 25ms/step - loss: 6.0337e-05 - val_loss: 6.1582e-04\n",
      "Epoch 82/100\n",
      "6/6 [==============================] - 0s 20ms/step - loss: 5.6300e-05 - val_loss: 6.5298e-04\n",
      "Epoch 83/100\n",
      "6/6 [==============================] - 0s 25ms/step - loss: 5.2886e-05 - val_loss: 7.0333e-04\n",
      "Epoch 84/100\n",
      "6/6 [==============================] - 0s 27ms/step - loss: 5.0127e-05 - val_loss: 7.6136e-04\n",
      "Epoch 85/100\n",
      "6/6 [==============================] - 0s 18ms/step - loss: 4.7592e-05 - val_loss: 8.3477e-04\n",
      "Epoch 86/100\n",
      "6/6 [==============================] - 0s 31ms/step - loss: 4.5427e-05 - val_loss: 8.8977e-04\n",
      "Epoch 87/100\n",
      "6/6 [==============================] - 0s 17ms/step - loss: 4.4175e-05 - val_loss: 9.5700e-04\n",
      "Epoch 88/100\n",
      "6/6 [==============================] - 0s 32ms/step - loss: 4.2546e-05 - val_loss: 0.0011\n",
      "Epoch 89/100\n",
      "6/6 [==============================] - 0s 30ms/step - loss: 4.1644e-05 - val_loss: 0.0011\n",
      "Epoch 90/100\n",
      "6/6 [==============================] - 0s 28ms/step - loss: 4.0464e-05 - val_loss: 0.0012\n",
      "Epoch 91/100\n",
      "6/6 [==============================] - 0s 23ms/step - loss: 3.9710e-05 - val_loss: 0.0013\n",
      "Epoch 92/100\n",
      "6/6 [==============================] - 0s 20ms/step - loss: 3.9103e-05 - val_loss: 0.0013\n",
      "Epoch 93/100\n",
      "6/6 [==============================] - 0s 37ms/step - loss: 3.8571e-05 - val_loss: 0.0014\n",
      "Epoch 94/100\n",
      "6/6 [==============================] - 0s 22ms/step - loss: 3.8146e-05 - val_loss: 0.0015\n",
      "Epoch 95/100\n",
      "6/6 [==============================] - 0s 23ms/step - loss: 3.7867e-05 - val_loss: 0.0015\n",
      "Epoch 96/100\n",
      "6/6 [==============================] - 0s 29ms/step - loss: 3.7604e-05 - val_loss: 0.0016\n",
      "Epoch 97/100\n",
      "6/6 [==============================] - 0s 16ms/step - loss: 3.7432e-05 - val_loss: 0.0016\n"
     ]
    }
   ],
   "source": [
    "model.compile(loss='mean_squared_error', optimizer='adam')\n",
    "history = model.fit(trainX, trainY,\n",
    "\n",
    "validation_data=(testX, testY),\n",
    "    epochs=100, \n",
    "    batch_size=128, # 32, 64, 128\n",
    "    callbacks=[early_stopping],\n",
    ")"
   ]
  },
  {
   "cell_type": "code",
   "execution_count": 19,
   "metadata": {
    "colab": {
     "base_uri": "https://localhost:8080/",
     "height": 265
    },
    "executionInfo": {
     "elapsed": 4475,
     "status": "ok",
     "timestamp": 1654989813684,
     "user": {
      "displayName": "Thanh Duong",
      "userId": "16342126098913789385"
     },
     "user_tz": 240
    },
    "id": "eWCozUOboax_",
    "outputId": "e63d8d9f-fb92-4850-88ec-3e0f9c3763f7"
   },
   "outputs": [
    {
     "data": {
      "image/png": "[encoded data removed]",
      "text/plain": [
       "<Figure size 432x288 with 1 Axes>"
      ]
     },
     "metadata": {
      "needs_background": "light"
     },
     "output_type": "display_data"
    }
   ],
   "source": [
    "plt.plot(history.history['loss'], label='train')\n",
    "plt.plot(history.history['val_loss'], label='test')\n",
    "plt.legend()\n",
    "plt.show()"
   ]
  },
  {
   "cell_type": "code",
   "execution_count": 20,
   "metadata": {
    "colab": {
     "base_uri": "https://localhost:8080/"
    },
    "executionInfo": {
     "elapsed": 893,
     "status": "ok",
     "timestamp": 1654989814572,
     "user": {
      "displayName": "Thanh Duong",
      "userId": "16342126098913789385"
     },
     "user_tz": 240
    },
    "id": "NwZyArTsouAM",
    "outputId": "b11a55b1-a4cc-4b40-8ef0-455a82e7a68c"
   },
   "outputs": [
    {
     "data": {
      "text/plain": [
       "array([26.64249951, 26.67499903, 27.45249934, 27.43000031, 27.53000022])"
      ]
     },
     "execution_count": 20,
     "metadata": {},
     "output_type": "execute_result"
    }
   ],
   "source": [
    "# make predictions\n",
    "trainPredict = model.predict(trainX)\n",
    "testPredict = model.predict(testX)\n",
    "\n",
    "# invert predictions\n",
    "trainPredict = scaler.inverse_transform(trainPredict)\n",
    "trainY = scaler.inverse_transform([trainY])\n",
    "testPredict = scaler.inverse_transform(testPredict)\n",
    "testY = scaler.inverse_transform([testY])\n",
    "trainY[0][:5]"
   ]
  },
  {
   "cell_type": "code",
   "execution_count": 21,
   "metadata": {
    "colab": {
     "base_uri": "https://localhost:8080/"
    },
    "executionInfo": {
     "elapsed": 119,
     "status": "ok",
     "timestamp": 1654989814685,
     "user": {
      "displayName": "Thanh Duong",
      "userId": "16342126098913789385"
     },
     "user_tz": 240
    },
    "id": "mUNihAcboxsg",
    "outputId": "ddcb520b-1686-4655-a4da-1345776264ea"
   },
   "outputs": [
    {
     "data": {
      "text/plain": [
       "array([[29.133343],\n",
       "       [28.895287],\n",
       "       [28.922419],\n",
       "       [29.57265 ],\n",
       "       [29.553804]], dtype=float32)"
      ]
     },
     "execution_count": 21,
     "metadata": {},
     "output_type": "execute_result"
    }
   ],
   "source": [
    "trainPredict[:5]"
   ]
  },
  {
   "cell_type": "code",
   "execution_count": 22,
   "metadata": {
    "colab": {
     "base_uri": "https://localhost:8080/"
    },
    "executionInfo": {
     "elapsed": 144,
     "status": "ok",
     "timestamp": 1654989814819,
     "user": {
      "displayName": "Thanh Duong",
      "userId": "16342126098913789385"
     },
     "user_tz": 240
    },
    "id": "aBzEPd7do1Jn",
    "outputId": "df396f6e-a42d-4f62-a685-26803e9325cc"
   },
   "outputs": [
    {
     "name": "stdout",
     "output_type": "stream",
     "text": [
      "Train RMSE: 0.99 RMSE\n",
      "Test RMSE: 2.83 RMSE\n"
     ]
    }
   ],
   "source": [
    "train_rmse = math.sqrt(mean_squared_error(trainY[0], trainPredict[:,0]))\n",
    "print('Train RMSE: %.2f RMSE' % (train_rmse))\n",
    "test_rmse = math.sqrt(mean_squared_error(testY[0], testPredict[:,0]))\n",
    "print('Test RMSE: %.2f RMSE' % (test_rmse))"
   ]
  },
  {
   "cell_type": "code",
   "execution_count": 23,
   "metadata": {
    "colab": {
     "base_uri": "https://localhost:8080/"
    },
    "executionInfo": {
     "elapsed": 6,
     "status": "ok",
     "timestamp": 1654989814819,
     "user": {
      "displayName": "Thanh Duong",
      "userId": "16342126098913789385"
     },
     "user_tz": 240
    },
    "id": "dUlt5frEo4wf",
    "outputId": "060199b7-adb9-4cbb-a9fe-b1abd4da375a"
   },
   "outputs": [
    {
     "name": "stdout",
     "output_type": "stream",
     "text": [
      "Train MAE: 0.79 MAE\n",
      "test MAE: 2.23 MAE\n"
     ]
    }
   ],
   "source": [
    "train_mae = mean_absolute_error(trainY[0], trainPredict[:,0])\n",
    "print('Train MAE: %.2f MAE' % (train_mae))\n",
    "test_mae = mean_absolute_error(testY[0], testPredict[:,0])\n",
    "print('test MAE: %.2f MAE' % (test_mae))"
   ]
  },
  {
   "cell_type": "markdown",
   "metadata": {
    "id": "AogNP-y8o8EJ"
   },
   "source": [
    "##### Since the STD is around 22 and the MAE is less than 2.5, we would accept the model"
   ]
  },
  {
   "cell_type": "code",
   "execution_count": 24,
   "metadata": {
    "executionInfo": {
     "elapsed": 6,
     "status": "ok",
     "timestamp": 1654989814820,
     "user": {
      "displayName": "Thanh Duong",
      "userId": "16342126098913789385"
     },
     "user_tz": 240
    },
    "id": "6pO4-hl1o6rK"
   },
   "outputs": [],
   "source": [
    "# shift train predictions for plotting\n",
    "trainPredictPlot = numpy.empty_like(dataset)\n",
    "trainPredictPlot[:, :] = numpy.nan\n",
    "trainPredictPlot[look_back:len(trainPredict)+look_back, :] = trainPredict\n",
    "# shift test predictions for plotting\n",
    "testPredictPlot = numpy.empty_like(dataset)\n",
    "testPredictPlot[:, :] = numpy.nan\n",
    "testPredictPlot[len(trainPredict)+(look_back*2)+1:len(dataset)-1, :] = testPredict"
   ]
  },
  {
   "cell_type": "code",
   "execution_count": 25,
   "metadata": {
    "colab": {
     "base_uri": "https://localhost:8080/",
     "height": 374
    },
    "executionInfo": {
     "elapsed": 284,
     "status": "ok",
     "timestamp": 1654989815191,
     "user": {
      "displayName": "Thanh Duong",
      "userId": "16342126098913789385"
     },
     "user_tz": 240
    },
    "id": "R3BXKb_hpMvh",
    "outputId": "354c7661-2dc5-4a25-d31a-aaa363a59c95"
   },
   "outputs": [
    {
     "data": {
      "image/png": "[encoded data removed]",
      "text/plain": [
       "<Figure size 720x432 with 1 Axes>"
      ]
     },
     "metadata": {
      "needs_background": "light"
     },
     "output_type": "display_data"
    }
   ],
   "source": [
    "plt.figure(figsize=(10,6))\n",
    "plt.plot(scaler.inverse_transform(dataset), label='Real Data')\n",
    "plt.plot(trainPredictPlot, label='trainPredict')\n",
    "plt.plot(testPredictPlot, label='testPredict')\n",
    "plt.legend(title=\"Notes\")\n",
    "plt.show()"
   ]
  },
  {
   "cell_type": "markdown",
   "metadata": {
    "id": "biBatP4Iplam"
   },
   "source": [
    "### Many to one"
   ]
  },
  {
   "cell_type": "code",
   "execution_count": 26,
   "metadata": {
    "executionInfo": {
     "elapsed": 24,
     "status": "ok",
     "timestamp": 1654989815193,
     "user": {
      "displayName": "Thanh Duong",
      "userId": "16342126098913789385"
     },
     "user_tz": 240
    },
    "id": "n_IVUaR0pPHZ"
   },
   "outputs": [],
   "source": [
    "import numpy as np\n",
    "import math\n",
    "from sklearn.preprocessing import LabelEncoder"
   ]
  },
  {
   "cell_type": "code",
   "execution_count": 27,
   "metadata": {
    "colab": {
     "base_uri": "https://localhost:8080/"
    },
    "executionInfo": {
     "elapsed": 21,
     "status": "ok",
     "timestamp": 1654989815194,
     "user": {
      "displayName": "Thanh Duong",
      "userId": "16342126098913789385"
     },
     "user_tz": 240
    },
    "id": "PyrLDIx0p5n6",
    "outputId": "e200b3c4-be5e-4748-b736-96c49f292ef8"
   },
   "outputs": [
    {
     "data": {
      "text/plain": [
       "array([[2.5687814e-03],\n",
       "       [0.0000000e+00],\n",
       "       [2.9292703e-04],\n",
       "       ...,\n",
       "       [8.1612933e-01],\n",
       "       [8.3803153e-01],\n",
       "       [8.3640921e-01]], dtype=float32)"
      ]
     },
     "execution_count": 27,
     "metadata": {},
     "output_type": "execute_result"
    }
   ],
   "source": [
    "dataset"
   ]
  },
  {
   "cell_type": "code",
   "execution_count": 28,
   "metadata": {
    "colab": {
     "base_uri": "https://localhost:8080/",
     "height": 238
    },
    "executionInfo": {
     "elapsed": 159,
     "status": "ok",
     "timestamp": 1654989815339,
     "user": {
      "displayName": "Thanh Duong",
      "userId": "16342126098913789385"
     },
     "user_tz": 240
    },
    "id": "k1nqpBDVp9TF",
    "outputId": "df895ba0-be5f-4a65-f117-29e886a48553"
   },
   "outputs": [
    {
     "data": {
      "text/html": [
       "\n",
       "  <div id=\"df-484d5902-4f65-424c-af1e-1e3d71635f61\">\n",
       "    <div class=\"colab-df-container\">\n",
       "      <div>\n",
       "<style scoped>\n",
       "    .dataframe tbody tr th:only-of-type {\n",
       "        vertical-align: middle;\n",
       "    }\n",
       "\n",
       "    .dataframe tbody tr th {\n",
       "        vertical-align: top;\n",
       "    }\n",
       "\n",
       "    .dataframe thead th {\n",
       "        text-align: right;\n",
       "    }\n",
       "</style>\n",
       "<table border=\"1\" class=\"dataframe\">\n",
       "  <thead>\n",
       "    <tr style=\"text-align: right;\">\n",
       "      <th></th>\n",
       "      <th>Open</th>\n",
       "      <th>High</th>\n",
       "      <th>Low</th>\n",
       "      <th>Close</th>\n",
       "      <th>Adj Close</th>\n",
       "      <th>Volume</th>\n",
       "    </tr>\n",
       "    <tr>\n",
       "      <th>Date</th>\n",
       "      <th></th>\n",
       "      <th></th>\n",
       "      <th></th>\n",
       "      <th></th>\n",
       "      <th></th>\n",
       "      <th></th>\n",
       "    </tr>\n",
       "  </thead>\n",
       "  <tbody>\n",
       "    <tr>\n",
       "      <th>2016-11-14</th>\n",
       "      <td>26.927500</td>\n",
       "      <td>26.952499</td>\n",
       "      <td>26.020000</td>\n",
       "      <td>26.427500</td>\n",
       "      <td>24.825821</td>\n",
       "      <td>204702000</td>\n",
       "    </tr>\n",
       "    <tr>\n",
       "      <th>2016-11-15</th>\n",
       "      <td>26.642500</td>\n",
       "      <td>26.920000</td>\n",
       "      <td>26.540001</td>\n",
       "      <td>26.777500</td>\n",
       "      <td>25.154610</td>\n",
       "      <td>129058000</td>\n",
       "    </tr>\n",
       "    <tr>\n",
       "      <th>2016-11-16</th>\n",
       "      <td>26.674999</td>\n",
       "      <td>27.557501</td>\n",
       "      <td>26.650000</td>\n",
       "      <td>27.497499</td>\n",
       "      <td>25.830971</td>\n",
       "      <td>235362000</td>\n",
       "    </tr>\n",
       "    <tr>\n",
       "      <th>2016-11-17</th>\n",
       "      <td>27.452499</td>\n",
       "      <td>27.587500</td>\n",
       "      <td>27.207500</td>\n",
       "      <td>27.487499</td>\n",
       "      <td>25.821573</td>\n",
       "      <td>110528000</td>\n",
       "    </tr>\n",
       "    <tr>\n",
       "      <th>2016-11-18</th>\n",
       "      <td>27.430000</td>\n",
       "      <td>27.635000</td>\n",
       "      <td>27.415001</td>\n",
       "      <td>27.514999</td>\n",
       "      <td>25.847408</td>\n",
       "      <td>113715600</td>\n",
       "    </tr>\n",
       "  </tbody>\n",
       "</table>\n",
       "</div>\n",
       "      <button class=\"colab-df-convert\" onclick=\"convertToInteractive('df-484d5902-4f65-424c-af1e-1e3d71635f61')\"\n",
       "              title=\"Convert this dataframe to an interactive table.\"\n",
       "              style=\"display:none;\">\n",
       "        \n",
       "  <svg xmlns=\"http://www.w3.org/2000/svg\" height=\"24px\"viewBox=\"0 0 24 24\"\n",
       "       width=\"24px\">\n",
       "    <path d=\"M0 0h24v24H0V0z\" fill=\"none\"/>\n",
       "    <path d=\"M18.56 5.44l.94 2.06.94-2.06 2.06-.94-2.06-.94-.94-2.06-.94 2.06-2.06.94zm-11 1L8.5 8.5l.94-2.06 2.06-.94-2.06-.94L8.5 2.5l-.94 2.06-2.06.94zm10 10l.94 2.06.94-2.06 2.06-.94-2.06-.94-.94-2.06-.94 2.06-2.06.94z\"/><path d=\"M17.41 7.96l-1.37-1.37c-.4-.4-.92-.59-1.43-.59-.52 0-1.04.2-1.43.59L10.3 9.45l-7.72 7.72c-.78.78-.78 2.05 0 2.83L4 21.41c.39.39.9.59 1.41.59.51 0 1.02-.2 1.41-.59l7.78-7.78 2.81-2.81c.8-.78.8-2.07 0-2.86zM5.41 20L4 18.59l7.72-7.72 1.47 1.35L5.41 20z\"/>\n",
       "  </svg>\n",
       "      </button>\n",
       "      \n",
       "  <style>\n",
       "    .colab-df-container {\n",
       "      display:flex;\n",
       "      flex-wrap:wrap;\n",
       "      gap: 12px;\n",
       "    }\n",
       "\n",
       "    .colab-df-convert {\n",
       "      background-color: #E8F0FE;\n",
       "      border: none;\n",
       "      border-radius: 50%;\n",
       "      cursor: pointer;\n",
       "      display: none;\n",
       "      fill: #1967D2;\n",
       "      height: 32px;\n",
       "      padding: 0 0 0 0;\n",
       "      width: 32px;\n",
       "    }\n",
       "\n",
       "    .colab-df-convert:hover {\n",
       "      background-color: #E2EBFA;\n",
       "      box-shadow: 0px 1px 2px rgba(60, 64, 67, 0.3), 0px 1px 3px 1px rgba(60, 64, 67, 0.15);\n",
       "      fill: #174EA6;\n",
       "    }\n",
       "\n",
       "    [theme=dark] .colab-df-convert {\n",
       "      background-color: #3B4455;\n",
       "      fill: #D2E3FC;\n",
       "    }\n",
       "\n",
       "    [theme=dark] .colab-df-convert:hover {\n",
       "      background-color: #434B5C;\n",
       "      box-shadow: 0px 1px 3px 1px rgba(0, 0, 0, 0.15);\n",
       "      filter: drop-shadow(0px 1px 2px rgba(0, 0, 0, 0.3));\n",
       "      fill: #FFFFFF;\n",
       "    }\n",
       "  </style>\n",
       "\n",
       "      <script>\n",
       "        const buttonEl =\n",
       "          document.querySelector('#df-484d5902-4f65-424c-af1e-1e3d71635f61 button.colab-df-convert');\n",
       "        buttonEl.style.display =\n",
       "          google.colab.kernel.accessAllowed ? 'block' : 'none';\n",
       "\n",
       "        async function convertToInteractive(key) {\n",
       "          const element = document.querySelector('#df-484d5902-4f65-424c-af1e-1e3d71635f61');\n",
       "          const dataTable =\n",
       "            await google.colab.kernel.invokeFunction('convertToInteractive',\n",
       "                                                     [key], {});\n",
       "          if (!dataTable) return;\n",
       "\n",
       "          const docLinkHtml = 'Like what you see? Visit the ' +\n",
       "            '<a target=\"_blank\" href=https://colab.research.google.com/notebooks/data_table.ipynb>data table notebook</a>'\n",
       "            + ' to learn more about interactive tables.';\n",
       "          element.innerHTML = '';\n",
       "          dataTable['output_type'] = 'display_data';\n",
       "          await google.colab.output.renderOutput(dataTable, element);\n",
       "          const docLink = document.createElement('div');\n",
       "          docLink.innerHTML = docLinkHtml;\n",
       "          element.appendChild(docLink);\n",
       "        }\n",
       "      </script>\n",
       "    </div>\n",
       "  </div>\n",
       "  "
      ],
      "text/plain": [
       "                 Open       High        Low      Close  Adj Close     Volume\n",
       "Date                                                                        \n",
       "2016-11-14  26.927500  26.952499  26.020000  26.427500  24.825821  204702000\n",
       "2016-11-15  26.642500  26.920000  26.540001  26.777500  25.154610  129058000\n",
       "2016-11-16  26.674999  27.557501  26.650000  27.497499  25.830971  235362000\n",
       "2016-11-17  27.452499  27.587500  27.207500  27.487499  25.821573  110528000\n",
       "2016-11-18  27.430000  27.635000  27.415001  27.514999  25.847408  113715600"
      ]
     },
     "execution_count": 28,
     "metadata": {},
     "output_type": "execute_result"
    }
   ],
   "source": [
    "dataset = pd.read_csv('AAPL.csv', index_col= 0)\n",
    "dataset.head()"
   ]
  },
  {
   "cell_type": "code",
   "execution_count": 29,
   "metadata": {
    "colab": {
     "base_uri": "https://localhost:8080/"
    },
    "executionInfo": {
     "elapsed": 23,
     "status": "ok",
     "timestamp": 1654989815341,
     "user": {
      "displayName": "Thanh Duong",
      "userId": "16342126098913789385"
     },
     "user_tz": 240
    },
    "id": "jgPK7nd9qM9h",
    "outputId": "9a8cd24a-c876-41be-e939-601c594972e4"
   },
   "outputs": [
    {
     "name": "stdout",
     "output_type": "stream",
     "text": [
      "<class 'pandas.core.frame.DataFrame'>\n",
      "Index: 1008 entries, 2016-11-14 to 2020-11-13\n",
      "Data columns (total 6 columns):\n",
      " #   Column     Non-Null Count  Dtype  \n",
      "---  ------     --------------  -----  \n",
      " 0   Open       1008 non-null   float64\n",
      " 1   High       1008 non-null   float64\n",
      " 2   Low        1008 non-null   float64\n",
      " 3   Close      1008 non-null   float64\n",
      " 4   Adj Close  1008 non-null   float64\n",
      " 5   Volume     1008 non-null   int64  \n",
      "dtypes: float64(5), int64(1)\n",
      "memory usage: 55.1+ KB\n"
     ]
    }
   ],
   "source": [
    "dataset.info()"
   ]
  },
  {
   "cell_type": "code",
   "execution_count": 30,
   "metadata": {
    "colab": {
     "base_uri": "https://localhost:8080/",
     "height": 300
    },
    "executionInfo": {
     "elapsed": 19,
     "status": "ok",
     "timestamp": 1654989815343,
     "user": {
      "displayName": "Thanh Duong",
      "userId": "16342126098913789385"
     },
     "user_tz": 240
    },
    "id": "DzbPFbOWqQIw",
    "outputId": "fe6f1897-2a20-4ee9-ea6c-39bd80487a37"
   },
   "outputs": [
    {
     "data": {
      "text/html": [
       "\n",
       "  <div id=\"df-4535486a-091f-4226-86cf-846732e3ecb6\">\n",
       "    <div class=\"colab-df-container\">\n",
       "      <div>\n",
       "<style scoped>\n",
       "    .dataframe tbody tr th:only-of-type {\n",
       "        vertical-align: middle;\n",
       "    }\n",
       "\n",
       "    .dataframe tbody tr th {\n",
       "        vertical-align: top;\n",
       "    }\n",
       "\n",
       "    .dataframe thead th {\n",
       "        text-align: right;\n",
       "    }\n",
       "</style>\n",
       "<table border=\"1\" class=\"dataframe\">\n",
       "  <thead>\n",
       "    <tr style=\"text-align: right;\">\n",
       "      <th></th>\n",
       "      <th>Open</th>\n",
       "      <th>High</th>\n",
       "      <th>Low</th>\n",
       "      <th>Close</th>\n",
       "      <th>Adj Close</th>\n",
       "      <th>Volume</th>\n",
       "    </tr>\n",
       "  </thead>\n",
       "  <tbody>\n",
       "    <tr>\n",
       "      <th>count</th>\n",
       "      <td>1008.000000</td>\n",
       "      <td>1008.000000</td>\n",
       "      <td>1008.000000</td>\n",
       "      <td>1008.000000</td>\n",
       "      <td>1008.000000</td>\n",
       "      <td>1.008000e+03</td>\n",
       "    </tr>\n",
       "    <tr>\n",
       "      <th>mean</th>\n",
       "      <td>55.022847</td>\n",
       "      <td>55.634645</td>\n",
       "      <td>54.439440</td>\n",
       "      <td>55.068780</td>\n",
       "      <td>53.661965</td>\n",
       "      <td>1.279139e+08</td>\n",
       "    </tr>\n",
       "    <tr>\n",
       "      <th>std</th>\n",
       "      <td>22.808228</td>\n",
       "      <td>23.199504</td>\n",
       "      <td>22.329356</td>\n",
       "      <td>22.778370</td>\n",
       "      <td>23.265842</td>\n",
       "      <td>5.914382e+07</td>\n",
       "    </tr>\n",
       "    <tr>\n",
       "      <th>min</th>\n",
       "      <td>26.642500</td>\n",
       "      <td>26.920000</td>\n",
       "      <td>26.020000</td>\n",
       "      <td>26.427500</td>\n",
       "      <td>24.825821</td>\n",
       "      <td>2.880380e+07</td>\n",
       "    </tr>\n",
       "    <tr>\n",
       "      <th>25%</th>\n",
       "      <td>39.973123</td>\n",
       "      <td>40.278123</td>\n",
       "      <td>39.636251</td>\n",
       "      <td>39.968751</td>\n",
       "      <td>38.069605</td>\n",
       "      <td>8.788140e+07</td>\n",
       "    </tr>\n",
       "    <tr>\n",
       "      <th>50%</th>\n",
       "      <td>47.244999</td>\n",
       "      <td>47.631248</td>\n",
       "      <td>46.872500</td>\n",
       "      <td>47.197500</td>\n",
       "      <td>45.769047</td>\n",
       "      <td>1.118354e+08</td>\n",
       "    </tr>\n",
       "    <tr>\n",
       "      <th>75%</th>\n",
       "      <td>61.968749</td>\n",
       "      <td>63.971249</td>\n",
       "      <td>61.203751</td>\n",
       "      <td>62.090624</td>\n",
       "      <td>61.046269</td>\n",
       "      <td>1.499102e+08</td>\n",
       "    </tr>\n",
       "    <tr>\n",
       "      <th>max</th>\n",
       "      <td>137.589996</td>\n",
       "      <td>137.979996</td>\n",
       "      <td>130.529999</td>\n",
       "      <td>134.179993</td>\n",
       "      <td>133.948898</td>\n",
       "      <td>4.479400e+08</td>\n",
       "    </tr>\n",
       "  </tbody>\n",
       "</table>\n",
       "</div>\n",
       "      <button class=\"colab-df-convert\" onclick=\"convertToInteractive('df-4535486a-091f-4226-86cf-846732e3ecb6')\"\n",
       "              title=\"Convert this dataframe to an interactive table.\"\n",
       "              style=\"display:none;\">\n",
       "        \n",
       "  <svg xmlns=\"http://www.w3.org/2000/svg\" height=\"24px\"viewBox=\"0 0 24 24\"\n",
       "       width=\"24px\">\n",
       "    <path d=\"M0 0h24v24H0V0z\" fill=\"none\"/>\n",
       "    <path d=\"M18.56 5.44l.94 2.06.94-2.06 2.06-.94-2.06-.94-.94-2.06-.94 2.06-2.06.94zm-11 1L8.5 8.5l.94-2.06 2.06-.94-2.06-.94L8.5 2.5l-.94 2.06-2.06.94zm10 10l.94 2.06.94-2.06 2.06-.94-2.06-.94-.94-2.06-.94 2.06-2.06.94z\"/><path d=\"M17.41 7.96l-1.37-1.37c-.4-.4-.92-.59-1.43-.59-.52 0-1.04.2-1.43.59L10.3 9.45l-7.72 7.72c-.78.78-.78 2.05 0 2.83L4 21.41c.39.39.9.59 1.41.59.51 0 1.02-.2 1.41-.59l7.78-7.78 2.81-2.81c.8-.78.8-2.07 0-2.86zM5.41 20L4 18.59l7.72-7.72 1.47 1.35L5.41 20z\"/>\n",
       "  </svg>\n",
       "      </button>\n",
       "      \n",
       "  <style>\n",
       "    .colab-df-container {\n",
       "      display:flex;\n",
       "      flex-wrap:wrap;\n",
       "      gap: 12px;\n",
       "    }\n",
       "\n",
       "    .colab-df-convert {\n",
       "      background-color: #E8F0FE;\n",
       "      border: none;\n",
       "      border-radius: 50%;\n",
       "      cursor: pointer;\n",
       "      display: none;\n",
       "      fill: #1967D2;\n",
       "      height: 32px;\n",
       "      padding: 0 0 0 0;\n",
       "      width: 32px;\n",
       "    }\n",
       "\n",
       "    .colab-df-convert:hover {\n",
       "      background-color: #E2EBFA;\n",
       "      box-shadow: 0px 1px 2px rgba(60, 64, 67, 0.3), 0px 1px 3px 1px rgba(60, 64, 67, 0.15);\n",
       "      fill: #174EA6;\n",
       "    }\n",
       "\n",
       "    [theme=dark] .colab-df-convert {\n",
       "      background-color: #3B4455;\n",
       "      fill: #D2E3FC;\n",
       "    }\n",
       "\n",
       "    [theme=dark] .colab-df-convert:hover {\n",
       "      background-color: #434B5C;\n",
       "      box-shadow: 0px 1px 3px 1px rgba(0, 0, 0, 0.15);\n",
       "      filter: drop-shadow(0px 1px 2px rgba(0, 0, 0, 0.3));\n",
       "      fill: #FFFFFF;\n",
       "    }\n",
       "  </style>\n",
       "\n",
       "      <script>\n",
       "        const buttonEl =\n",
       "          document.querySelector('#df-4535486a-091f-4226-86cf-846732e3ecb6 button.colab-df-convert');\n",
       "        buttonEl.style.display =\n",
       "          google.colab.kernel.accessAllowed ? 'block' : 'none';\n",
       "\n",
       "        async function convertToInteractive(key) {\n",
       "          const element = document.querySelector('#df-4535486a-091f-4226-86cf-846732e3ecb6');\n",
       "          const dataTable =\n",
       "            await google.colab.kernel.invokeFunction('convertToInteractive',\n",
       "                                                     [key], {});\n",
       "          if (!dataTable) return;\n",
       "\n",
       "          const docLinkHtml = 'Like what you see? Visit the ' +\n",
       "            '<a target=\"_blank\" href=https://colab.research.google.com/notebooks/data_table.ipynb>data table notebook</a>'\n",
       "            + ' to learn more about interactive tables.';\n",
       "          element.innerHTML = '';\n",
       "          dataTable['output_type'] = 'display_data';\n",
       "          await google.colab.output.renderOutput(dataTable, element);\n",
       "          const docLink = document.createElement('div');\n",
       "          docLink.innerHTML = docLinkHtml;\n",
       "          element.appendChild(docLink);\n",
       "        }\n",
       "      </script>\n",
       "    </div>\n",
       "  </div>\n",
       "  "
      ],
      "text/plain": [
       "              Open         High          Low        Close    Adj Close  \\\n",
       "count  1008.000000  1008.000000  1008.000000  1008.000000  1008.000000   \n",
       "mean     55.022847    55.634645    54.439440    55.068780    53.661965   \n",
       "std      22.808228    23.199504    22.329356    22.778370    23.265842   \n",
       "min      26.642500    26.920000    26.020000    26.427500    24.825821   \n",
       "25%      39.973123    40.278123    39.636251    39.968751    38.069605   \n",
       "50%      47.244999    47.631248    46.872500    47.197500    45.769047   \n",
       "75%      61.968749    63.971249    61.203751    62.090624    61.046269   \n",
       "max     137.589996   137.979996   130.529999   134.179993   133.948898   \n",
       "\n",
       "             Volume  \n",
       "count  1.008000e+03  \n",
       "mean   1.279139e+08  \n",
       "std    5.914382e+07  \n",
       "min    2.880380e+07  \n",
       "25%    8.788140e+07  \n",
       "50%    1.118354e+08  \n",
       "75%    1.499102e+08  \n",
       "max    4.479400e+08  "
      ]
     },
     "execution_count": 30,
     "metadata": {},
     "output_type": "execute_result"
    }
   ],
   "source": [
    "dataset.describe()"
   ]
  },
  {
   "cell_type": "code",
   "execution_count": 31,
   "metadata": {
    "colab": {
     "base_uri": "https://localhost:8080/",
     "height": 1000
    },
    "executionInfo": {
     "elapsed": 1743,
     "status": "ok",
     "timestamp": 1654989817069,
     "user": {
      "displayName": "Thanh Duong",
      "userId": "16342126098913789385"
     },
     "user_tz": 240
    },
    "id": "6J2hEvMmqSg7",
    "outputId": "8b0c0cf9-5111-492d-e3ed-ff340175070c"
   },
   "outputs": [
    {
     "data": {
      "image/png": "[encoded data removed]",
      "text/plain": [
       "<Figure size 1440x1440 with 6 Axes>"
      ]
     },
     "metadata": {
      "needs_background": "light"
     },
     "output_type": "display_data"
    }
   ],
   "source": [
    "values = dataset.values\n",
    "# specify columns to plot\n",
    "groups = [0, 1, 2, 3, 4, 5] # vì cột 4 là cột kiểu chuỗi\n",
    "i = 1\n",
    "# plot each column\n",
    "plt.figure(figsize=(20,20))\n",
    "for group in groups:\n",
    "    plt.subplot(len(groups), 1, i)\n",
    "    plt.plot(values[:, group])\n",
    "    plt.title(dataset.columns[group], y=0.5, loc='right')\n",
    "    i += 1\n",
    "plt.show()"
   ]
  },
  {
   "cell_type": "code",
   "execution_count": 32,
   "metadata": {
    "executionInfo": {
     "elapsed": 34,
     "status": "ok",
     "timestamp": 1654989817082,
     "user": {
      "displayName": "Thanh Duong",
      "userId": "16342126098913789385"
     },
     "user_tz": 240
    },
    "id": "5BwlTdWmqk_z"
   },
   "outputs": [],
   "source": [
    "# convert series to supervised learning\n",
    "def series_to_supervised(data, n_in=1, n_out=1, dropnan=True):\n",
    "\tn_vars = 1 if type(data) is list else data.shape[1]\n",
    "\tdf = pd.DataFrame(data)\n",
    "\tcols, names = list(), list()\n",
    "\t# input sequence (t-n, ... t-1)\n",
    "\tfor i in range(n_in, 0, -1):\n",
    "\t\tcols.append(df.shift(i))        \n",
    "\t\tnames += [('var%d(t-%d)' % (j+1, i)) for j in range(n_vars)]\n",
    "\t# forecast sequence (t, t+1, ... t+n)\n",
    "\tfor i in range(0, n_out):\n",
    "\t\tcols.append(df.shift(-i))\n",
    "\t\tif i == 0:\n",
    "\t\t\tnames += [('var%d(t)' % (j+1)) for j in range(n_vars)]\n",
    "\t\telse:\n",
    "\t\t\tnames += [('var%d(t+%d)' % (j+1, i)) for j in range(n_vars)]\n",
    "\t# put it all together\n",
    "\tagg = pd.concat(cols, axis=1)\n",
    "\tagg.columns = names\n",
    "\t# drop rows with NaN values\n",
    "\tif dropnan:\n",
    "\t\tagg.dropna(inplace=True) # kết quả sau khi drop gán luôn vào agg\n",
    "\treturn agg"
   ]
  },
  {
   "cell_type": "code",
   "execution_count": 33,
   "metadata": {
    "colab": {
     "base_uri": "https://localhost:8080/"
    },
    "executionInfo": {
     "elapsed": 34,
     "status": "ok",
     "timestamp": 1654989817084,
     "user": {
      "displayName": "Thanh Duong",
      "userId": "16342126098913789385"
     },
     "user_tz": 240
    },
    "id": "-ueqe5jlqrq7",
    "outputId": "070ec778-6cba-45ce-fe70-d62a7302f9eb"
   },
   "outputs": [
    {
     "name": "stdout",
     "output_type": "stream",
     "text": [
      "Frame as Series:\n",
      "[[2.5687814e-03 2.9262900e-04 0.0000000e+00 0.0000000e+00 0.0000000e+00\n",
      "  4.1966838e-01]\n",
      " [0.0000000e+00 0.0000000e+00 4.9756020e-03 3.2481849e-03 3.0130148e-03\n",
      "  2.3919241e-01]\n",
      " [2.9292703e-04 5.7401359e-03 6.0281307e-03 9.9301785e-03 9.2111528e-03\n",
      "  4.9281877e-01]\n",
      " [7.3007494e-03 6.0102493e-03 1.1362538e-02 9.8373443e-03 9.1250390e-03\n",
      "  1.9498245e-01]\n",
      " [7.0979595e-03 6.4379573e-03 1.3347998e-02 1.0092571e-02 9.3617886e-03\n",
      "  2.0258759e-01]]\n",
      "Frame as supervised learning:\n",
      "   var1(t-1)  var2(t-1)  var3(t-1)  var4(t-1)  var5(t-1)  var6(t-1)   var1(t)  \\\n",
      "1   0.002569   0.000293   0.000000   0.000000   0.000000   0.419668  0.000000   \n",
      "2   0.000000   0.000000   0.004976   0.003248   0.003013   0.239192  0.000293   \n",
      "3   0.000293   0.005740   0.006028   0.009930   0.009211   0.492819  0.007301   \n",
      "4   0.007301   0.006010   0.011363   0.009837   0.009125   0.194982  0.007098   \n",
      "5   0.007098   0.006438   0.013348   0.010093   0.009362   0.202588  0.007999   \n",
      "\n",
      "    var2(t)   var3(t)   var4(t)   var5(t)   var6(t)  \n",
      "1  0.000000  0.004976  0.003248  0.003013  0.239192  \n",
      "2  0.005740  0.006028  0.009930  0.009211  0.492819  \n",
      "3  0.006010  0.011363  0.009837  0.009125  0.194982  \n",
      "4  0.006438  0.013348  0.010093  0.009362  0.202588  \n",
      "5  0.009702  0.014185  0.013967  0.012956  0.210563  \n",
      "Frame will use:\n",
      "   var1(t-1)  var2(t-1)  var3(t-1)  var4(t-1)  var5(t-1)  var6(t-1)   var1(t)  \\\n",
      "1   0.002569   0.000293   0.000000   0.000000   0.000000   0.419668  0.000000   \n",
      "2   0.000000   0.000000   0.004976   0.003248   0.003013   0.239192  0.000293   \n",
      "3   0.000293   0.005740   0.006028   0.009930   0.009211   0.492819  0.007301   \n",
      "4   0.007301   0.006010   0.011363   0.009837   0.009125   0.194982  0.007098   \n",
      "5   0.007098   0.006438   0.013348   0.010093   0.009362   0.202588  0.007999   \n",
      "\n",
      "    var2(t)   var3(t)   var4(t)   var5(t)   var6(t)  \n",
      "1  0.000000  0.004976  0.003248  0.003013  0.239192  \n",
      "2  0.005740  0.006028  0.009930  0.009211  0.492819  \n",
      "3  0.006010  0.011363  0.009837  0.009125  0.194982  \n",
      "4  0.006438  0.013348  0.010093  0.009362  0.202588  \n",
      "5  0.009702  0.014185  0.013967  0.012956  0.210563  \n"
     ]
    }
   ],
   "source": [
    "# # load dataset\n",
    "values = dataset.values\n",
    "# ensure all data is float\n",
    "values = values.astype('float32')\n",
    "# normalize features\n",
    "scaler = MinMaxScaler(feature_range=(0, 1))\n",
    "scaler.fit(values)\n",
    "scaled = scaler.transform(values)\n",
    "print(\"Frame as Series:\")\n",
    "print(scaled[:5])\n",
    "\n",
    "# frame as supervised learning\n",
    "reframed = series_to_supervised(scaled, 1, 1)\n",
    "print(\"Frame as supervised learning:\")\n",
    "print(reframed.head())\n",
    "\n",
    "print(\"Frame will use:\")\n",
    "print(reframed.head())"
   ]
  },
  {
   "cell_type": "code",
   "execution_count": 34,
   "metadata": {
    "colab": {
     "base_uri": "https://localhost:8080/"
    },
    "executionInfo": {
     "elapsed": 169,
     "status": "ok",
     "timestamp": 1654989817226,
     "user": {
      "displayName": "Thanh Duong",
      "userId": "16342126098913789385"
     },
     "user_tz": 240
    },
    "id": "ViGxWeQ6qtg1",
    "outputId": "c9d2d8f9-dfb9-4db9-e740-fec2eb67b1d7"
   },
   "outputs": [
    {
     "name": "stdout",
     "output_type": "stream",
     "text": [
      "Before reshape:\n",
      "(675, 11) (675,) (332, 11) (332,)\n",
      "After reshape:\n",
      "(675, 1, 11) (675,) (332, 1, 11) (332,)\n"
     ]
    }
   ],
   "source": [
    "# split into train and test sets\n",
    "values = reframed.values\n",
    "n_train_hours = int(len(dataset) * 0.67)\n",
    "train = values[:n_train_hours, :]\n",
    "# còn lại thì là test\n",
    "test = values[n_train_hours:, :]\n",
    "# split into input and outputs (các cột đầu, cột cuối)\n",
    "train_X, train_y = train[:, :-1], train[:, -1]\n",
    "test_X, test_y = test[:, :-1], test[:, -1]\n",
    "print(\"Before reshape:\")\n",
    "print(train_X.shape, train_y.shape, test_X.shape, test_y.shape)\n",
    "# reshape input to be 3D [samples, timesteps, features]\n",
    "\n",
    "train_X = train_X.reshape((train_X.shape[0], 1, train_X.shape[1]))\n",
    "test_X = test_X.reshape((test_X.shape[0], 1, test_X.shape[1]))\n",
    "print(\"After reshape:\")\n",
    "print(train_X.shape, train_y.shape, test_X.shape, test_y.shape)"
   ]
  },
  {
   "cell_type": "code",
   "execution_count": 35,
   "metadata": {
    "colab": {
     "base_uri": "https://localhost:8080/"
    },
    "executionInfo": {
     "elapsed": 11216,
     "status": "ok",
     "timestamp": 1654989828435,
     "user": {
      "displayName": "Thanh Duong",
      "userId": "16342126098913789385"
     },
     "user_tz": 240
    },
    "id": "Dn8CCCuerXt8",
    "outputId": "852813e7-cbcc-44fc-db4d-fd6f5ba27a9f"
   },
   "outputs": [
    {
     "name": "stdout",
     "output_type": "stream",
     "text": [
      "Epoch 1/100\n",
      "10/10 - 3s - loss: 0.2076 - val_loss: 0.1621 - 3s/epoch - 309ms/step\n",
      "Epoch 2/100\n",
      "10/10 - 0s - loss: 0.1461 - val_loss: 0.1249 - 69ms/epoch - 7ms/step\n",
      "Epoch 3/100\n",
      "10/10 - 0s - loss: 0.1035 - val_loss: 0.1895 - 77ms/epoch - 8ms/step\n",
      "Epoch 4/100\n",
      "10/10 - 0s - loss: 0.0920 - val_loss: 0.2332 - 70ms/epoch - 7ms/step\n",
      "Epoch 5/100\n",
      "10/10 - 0s - loss: 0.0912 - val_loss: 0.2221 - 73ms/epoch - 7ms/step\n",
      "Epoch 6/100\n",
      "10/10 - 0s - loss: 0.0893 - val_loss: 0.1883 - 83ms/epoch - 8ms/step\n",
      "Epoch 7/100\n",
      "10/10 - 0s - loss: 0.0872 - val_loss: 0.1602 - 83ms/epoch - 8ms/step\n",
      "Epoch 8/100\n",
      "10/10 - 0s - loss: 0.0855 - val_loss: 0.1487 - 60ms/epoch - 6ms/step\n",
      "Epoch 9/100\n",
      "10/10 - 0s - loss: 0.0839 - val_loss: 0.1419 - 61ms/epoch - 6ms/step\n",
      "Epoch 10/100\n",
      "10/10 - 0s - loss: 0.0825 - val_loss: 0.1373 - 69ms/epoch - 7ms/step\n",
      "Epoch 11/100\n",
      "10/10 - 0s - loss: 0.0812 - val_loss: 0.1245 - 59ms/epoch - 6ms/step\n",
      "Epoch 12/100\n",
      "10/10 - 0s - loss: 0.0798 - val_loss: 0.1114 - 83ms/epoch - 8ms/step\n",
      "Epoch 13/100\n",
      "10/10 - 0s - loss: 0.0786 - val_loss: 0.1077 - 80ms/epoch - 8ms/step\n",
      "Epoch 14/100\n",
      "10/10 - 0s - loss: 0.0777 - val_loss: 0.1042 - 58ms/epoch - 6ms/step\n",
      "Epoch 15/100\n",
      "10/10 - 0s - loss: 0.0762 - val_loss: 0.0982 - 72ms/epoch - 7ms/step\n",
      "Epoch 16/100\n",
      "10/10 - 0s - loss: 0.0760 - val_loss: 0.0981 - 67ms/epoch - 7ms/step\n",
      "Epoch 17/100\n",
      "10/10 - 0s - loss: 0.0748 - val_loss: 0.0961 - 62ms/epoch - 6ms/step\n",
      "Epoch 18/100\n",
      "10/10 - 0s - loss: 0.0741 - val_loss: 0.0964 - 84ms/epoch - 8ms/step\n",
      "Epoch 19/100\n",
      "10/10 - 0s - loss: 0.0736 - val_loss: 0.1007 - 78ms/epoch - 8ms/step\n",
      "Epoch 20/100\n",
      "10/10 - 0s - loss: 0.0730 - val_loss: 0.1004 - 56ms/epoch - 6ms/step\n",
      "Epoch 21/100\n",
      "10/10 - 0s - loss: 0.0725 - val_loss: 0.1090 - 58ms/epoch - 6ms/step\n",
      "Epoch 22/100\n",
      "10/10 - 0s - loss: 0.0719 - val_loss: 0.1180 - 75ms/epoch - 8ms/step\n",
      "Epoch 23/100\n",
      "10/10 - 0s - loss: 0.0714 - val_loss: 0.1120 - 61ms/epoch - 6ms/step\n",
      "Epoch 24/100\n",
      "10/10 - 0s - loss: 0.0710 - val_loss: 0.1191 - 53ms/epoch - 5ms/step\n",
      "Epoch 25/100\n",
      "10/10 - 0s - loss: 0.0705 - val_loss: 0.1135 - 79ms/epoch - 8ms/step\n",
      "Epoch 26/100\n",
      "10/10 - 0s - loss: 0.0701 - val_loss: 0.1211 - 62ms/epoch - 6ms/step\n",
      "Epoch 27/100\n",
      "10/10 - 0s - loss: 0.0697 - val_loss: 0.1215 - 84ms/epoch - 8ms/step\n",
      "Epoch 28/100\n",
      "10/10 - 0s - loss: 0.0693 - val_loss: 0.1202 - 86ms/epoch - 9ms/step\n",
      "Epoch 29/100\n",
      "10/10 - 0s - loss: 0.0691 - val_loss: 0.1205 - 67ms/epoch - 7ms/step\n",
      "Epoch 30/100\n",
      "10/10 - 0s - loss: 0.0687 - val_loss: 0.1208 - 81ms/epoch - 8ms/step\n",
      "Epoch 31/100\n",
      "10/10 - 0s - loss: 0.0684 - val_loss: 0.1102 - 62ms/epoch - 6ms/step\n",
      "Epoch 32/100\n",
      "10/10 - 0s - loss: 0.0682 - val_loss: 0.1136 - 72ms/epoch - 7ms/step\n",
      "Epoch 33/100\n",
      "10/10 - 0s - loss: 0.0679 - val_loss: 0.1092 - 73ms/epoch - 7ms/step\n",
      "Epoch 34/100\n",
      "10/10 - 0s - loss: 0.0680 - val_loss: 0.1089 - 77ms/epoch - 8ms/step\n",
      "Epoch 35/100\n",
      "10/10 - 0s - loss: 0.0680 - val_loss: 0.1059 - 64ms/epoch - 6ms/step\n",
      "Epoch 36/100\n",
      "10/10 - 0s - loss: 0.0675 - val_loss: 0.1154 - 72ms/epoch - 7ms/step\n",
      "Epoch 37/100\n",
      "10/10 - 0s - loss: 0.0673 - val_loss: 0.1044 - 59ms/epoch - 6ms/step\n",
      "Epoch 38/100\n",
      "10/10 - 0s - loss: 0.0675 - val_loss: 0.1053 - 71ms/epoch - 7ms/step\n",
      "Epoch 39/100\n",
      "10/10 - 0s - loss: 0.0674 - val_loss: 0.1055 - 65ms/epoch - 7ms/step\n",
      "Epoch 40/100\n",
      "10/10 - 0s - loss: 0.0674 - val_loss: 0.0981 - 86ms/epoch - 9ms/step\n",
      "Epoch 41/100\n",
      "10/10 - 0s - loss: 0.0673 - val_loss: 0.1018 - 74ms/epoch - 7ms/step\n",
      "Epoch 42/100\n",
      "10/10 - 0s - loss: 0.0672 - val_loss: 0.0996 - 88ms/epoch - 9ms/step\n",
      "Epoch 43/100\n",
      "10/10 - 0s - loss: 0.0672 - val_loss: 0.0981 - 81ms/epoch - 8ms/step\n",
      "Epoch 44/100\n",
      "10/10 - 0s - loss: 0.0673 - val_loss: 0.0995 - 56ms/epoch - 6ms/step\n",
      "Epoch 45/100\n",
      "10/10 - 0s - loss: 0.0674 - val_loss: 0.0952 - 89ms/epoch - 9ms/step\n",
      "Epoch 46/100\n",
      "10/10 - 0s - loss: 0.0672 - val_loss: 0.1033 - 62ms/epoch - 6ms/step\n",
      "Epoch 47/100\n",
      "10/10 - 0s - loss: 0.0673 - val_loss: 0.0958 - 57ms/epoch - 6ms/step\n",
      "Epoch 48/100\n",
      "10/10 - 0s - loss: 0.0672 - val_loss: 0.0968 - 63ms/epoch - 6ms/step\n",
      "Epoch 49/100\n",
      "10/10 - 0s - loss: 0.0673 - val_loss: 0.1021 - 62ms/epoch - 6ms/step\n",
      "Epoch 50/100\n",
      "10/10 - 0s - loss: 0.0673 - val_loss: 0.0969 - 85ms/epoch - 9ms/step\n",
      "Epoch 51/100\n",
      "10/10 - 0s - loss: 0.0673 - val_loss: 0.0942 - 80ms/epoch - 8ms/step\n",
      "Epoch 52/100\n",
      "10/10 - 0s - loss: 0.0672 - val_loss: 0.0915 - 79ms/epoch - 8ms/step\n",
      "Epoch 53/100\n",
      "10/10 - 0s - loss: 0.0671 - val_loss: 0.1019 - 63ms/epoch - 6ms/step\n",
      "Epoch 54/100\n",
      "10/10 - 0s - loss: 0.0672 - val_loss: 0.0944 - 72ms/epoch - 7ms/step\n",
      "Epoch 55/100\n",
      "10/10 - 0s - loss: 0.0672 - val_loss: 0.0972 - 70ms/epoch - 7ms/step\n",
      "Epoch 56/100\n",
      "10/10 - 0s - loss: 0.0672 - val_loss: 0.0988 - 61ms/epoch - 6ms/step\n",
      "Epoch 57/100\n",
      "10/10 - 0s - loss: 0.0674 - val_loss: 0.0932 - 89ms/epoch - 9ms/step\n",
      "Epoch 58/100\n",
      "10/10 - 0s - loss: 0.0674 - val_loss: 0.0915 - 72ms/epoch - 7ms/step\n",
      "Epoch 59/100\n",
      "10/10 - 0s - loss: 0.0672 - val_loss: 0.0934 - 79ms/epoch - 8ms/step\n",
      "Epoch 60/100\n",
      "10/10 - 0s - loss: 0.0671 - val_loss: 0.0915 - 78ms/epoch - 8ms/step\n",
      "Epoch 61/100\n",
      "10/10 - 0s - loss: 0.0673 - val_loss: 0.0893 - 70ms/epoch - 7ms/step\n",
      "Epoch 62/100\n",
      "10/10 - 0s - loss: 0.0670 - val_loss: 0.0980 - 69ms/epoch - 7ms/step\n",
      "Epoch 63/100\n",
      "10/10 - 0s - loss: 0.0672 - val_loss: 0.0893 - 66ms/epoch - 7ms/step\n",
      "Epoch 64/100\n",
      "10/10 - 0s - loss: 0.0672 - val_loss: 0.0936 - 61ms/epoch - 6ms/step\n",
      "Epoch 65/100\n",
      "10/10 - 0s - loss: 0.0672 - val_loss: 0.0977 - 82ms/epoch - 8ms/step\n",
      "Epoch 66/100\n",
      "10/10 - 0s - loss: 0.0671 - val_loss: 0.0920 - 81ms/epoch - 8ms/step\n",
      "Epoch 67/100\n",
      "10/10 - 0s - loss: 0.0671 - val_loss: 0.0984 - 65ms/epoch - 7ms/step\n",
      "Epoch 68/100\n",
      "10/10 - 0s - loss: 0.0670 - val_loss: 0.0946 - 62ms/epoch - 6ms/step\n",
      "Epoch 69/100\n",
      "10/10 - 0s - loss: 0.0670 - val_loss: 0.0894 - 65ms/epoch - 7ms/step\n",
      "Epoch 70/100\n",
      "10/10 - 0s - loss: 0.0673 - val_loss: 0.0917 - 81ms/epoch - 8ms/step\n",
      "Epoch 71/100\n",
      "10/10 - 0s - loss: 0.0671 - val_loss: 0.0872 - 63ms/epoch - 6ms/step\n",
      "Epoch 72/100\n",
      "10/10 - 0s - loss: 0.0671 - val_loss: 0.0910 - 76ms/epoch - 8ms/step\n",
      "Epoch 73/100\n",
      "10/10 - 0s - loss: 0.0674 - val_loss: 0.0899 - 75ms/epoch - 7ms/step\n",
      "Epoch 74/100\n",
      "10/10 - 0s - loss: 0.0670 - val_loss: 0.0886 - 57ms/epoch - 6ms/step\n",
      "Epoch 75/100\n",
      "10/10 - 0s - loss: 0.0671 - val_loss: 0.0868 - 73ms/epoch - 7ms/step\n",
      "Epoch 76/100\n",
      "10/10 - 0s - loss: 0.0673 - val_loss: 0.0889 - 66ms/epoch - 7ms/step\n",
      "Epoch 77/100\n",
      "10/10 - 0s - loss: 0.0673 - val_loss: 0.0929 - 58ms/epoch - 6ms/step\n",
      "Epoch 78/100\n",
      "10/10 - 0s - loss: 0.0669 - val_loss: 0.0876 - 76ms/epoch - 8ms/step\n",
      "Epoch 79/100\n",
      "10/10 - 0s - loss: 0.0673 - val_loss: 0.0886 - 61ms/epoch - 6ms/step\n",
      "Epoch 80/100\n",
      "10/10 - 0s - loss: 0.0671 - val_loss: 0.0890 - 73ms/epoch - 7ms/step\n",
      "Epoch 81/100\n",
      "10/10 - 0s - loss: 0.0673 - val_loss: 0.0904 - 64ms/epoch - 6ms/step\n",
      "Epoch 82/100\n",
      "10/10 - 0s - loss: 0.0670 - val_loss: 0.0862 - 81ms/epoch - 8ms/step\n",
      "Epoch 83/100\n",
      "10/10 - 0s - loss: 0.0669 - val_loss: 0.0869 - 69ms/epoch - 7ms/step\n",
      "Epoch 84/100\n",
      "10/10 - 0s - loss: 0.0671 - val_loss: 0.0891 - 82ms/epoch - 8ms/step\n",
      "Epoch 85/100\n",
      "10/10 - 0s - loss: 0.0669 - val_loss: 0.0839 - 59ms/epoch - 6ms/step\n",
      "Epoch 86/100\n",
      "10/10 - 0s - loss: 0.0673 - val_loss: 0.0865 - 63ms/epoch - 6ms/step\n",
      "Epoch 87/100\n",
      "10/10 - 0s - loss: 0.0669 - val_loss: 0.0871 - 70ms/epoch - 7ms/step\n",
      "Epoch 88/100\n",
      "10/10 - 0s - loss: 0.0670 - val_loss: 0.0863 - 63ms/epoch - 6ms/step\n",
      "Epoch 89/100\n",
      "10/10 - 0s - loss: 0.0670 - val_loss: 0.0863 - 84ms/epoch - 8ms/step\n",
      "Epoch 90/100\n",
      "10/10 - 0s - loss: 0.0669 - val_loss: 0.0886 - 72ms/epoch - 7ms/step\n",
      "Epoch 91/100\n",
      "10/10 - 0s - loss: 0.0669 - val_loss: 0.0862 - 69ms/epoch - 7ms/step\n",
      "Epoch 92/100\n",
      "10/10 - 0s - loss: 0.0669 - val_loss: 0.0848 - 68ms/epoch - 7ms/step\n",
      "Epoch 93/100\n",
      "10/10 - 0s - loss: 0.0669 - val_loss: 0.0855 - 78ms/epoch - 8ms/step\n",
      "Epoch 94/100\n",
      "10/10 - 0s - loss: 0.0671 - val_loss: 0.0845 - 64ms/epoch - 6ms/step\n",
      "Epoch 95/100\n",
      "10/10 - 0s - loss: 0.0669 - val_loss: 0.0875 - 78ms/epoch - 8ms/step\n",
      "Epoch 96/100\n",
      "10/10 - 0s - loss: 0.0669 - val_loss: 0.0838 - 68ms/epoch - 7ms/step\n",
      "Epoch 97/100\n",
      "10/10 - 0s - loss: 0.0669 - val_loss: 0.0883 - 71ms/epoch - 7ms/step\n",
      "Epoch 98/100\n",
      "10/10 - 0s - loss: 0.0668 - val_loss: 0.0855 - 74ms/epoch - 7ms/step\n",
      "Epoch 99/100\n",
      "10/10 - 0s - loss: 0.0668 - val_loss: 0.0849 - 68ms/epoch - 7ms/step\n",
      "Epoch 100/100\n",
      "10/10 - 0s - loss: 0.0668 - val_loss: 0.0861 - 70ms/epoch - 7ms/step\n"
     ]
    }
   ],
   "source": [
    "# design network\n",
    "model = Sequential()\n",
    "model.add(LSTM(32, input_shape=(train_X.shape[1], train_X.shape[2]))) \n",
    "model.add(Dense(1))\n",
    "model.compile(loss='mae', optimizer='adam')\n",
    "# fit network\n",
    "history = model.fit(train_X, train_y,\n",
    "      epochs=100,\n",
    "      batch_size=72,\n",
    "      validation_data=(test_X, test_y),\n",
    "      verbose=2\n",
    "      )"
   ]
  },
  {
   "cell_type": "code",
   "execution_count": 36,
   "metadata": {
    "colab": {
     "base_uri": "https://localhost:8080/"
    },
    "executionInfo": {
     "elapsed": 45,
     "status": "ok",
     "timestamp": 1654989828436,
     "user": {
      "displayName": "Thanh Duong",
      "userId": "16342126098913789385"
     },
     "user_tz": 240
    },
    "id": "5cOsuYdwreCT",
    "outputId": "f9b87869-61fe-4fc8-8632-2821ccdcace2"
   },
   "outputs": [
    {
     "name": "stdout",
     "output_type": "stream",
     "text": [
      "Model: \"sequential_1\"\n",
      "_________________________________________________________________\n",
      " Layer (type)                Output Shape              Param #   \n",
      "=================================================================\n",
      " lstm_1 (LSTM)               (None, 32)                5632      \n",
      "                                                                 \n",
      " dense_1 (Dense)             (None, 1)                 33        \n",
      "                                                                 \n",
      "=================================================================\n",
      "Total params: 5,665\n",
      "Trainable params: 5,665\n",
      "Non-trainable params: 0\n",
      "_________________________________________________________________\n"
     ]
    }
   ],
   "source": [
    "model.summary()"
   ]
  },
  {
   "cell_type": "code",
   "execution_count": 37,
   "metadata": {
    "colab": {
     "base_uri": "https://localhost:8080/",
     "height": 265
    },
    "executionInfo": {
     "elapsed": 292,
     "status": "ok",
     "timestamp": 1654989828703,
     "user": {
      "displayName": "Thanh Duong",
      "userId": "16342126098913789385"
     },
     "user_tz": 240
    },
    "id": "FCKOSR0WrlOn",
    "outputId": "70c67c06-9c7f-4445-ec22-ecb9a40dfe9a"
   },
   "outputs": [
    {
     "data": {
      "image/png": "[encoded data removed]",
      "text/plain": [
       "<Figure size 432x288 with 1 Axes>"
      ]
     },
     "metadata": {
      "needs_background": "light"
     },
     "output_type": "display_data"
    }
   ],
   "source": [
    "plt.plot(history.history['loss'], label='train')\n",
    "plt.plot(history.history['val_loss'], label='test')\n",
    "plt.legend()\n",
    "plt.show()"
   ]
  },
  {
   "cell_type": "markdown",
   "metadata": {
    "id": "SP4kCVPdEz3h"
   },
   "source": [
    "#### We can see that the One to One model above performs better than the Many to One model"
   ]
  },
  {
   "cell_type": "code",
   "execution_count": 37,
   "metadata": {
    "executionInfo": {
     "elapsed": 16,
     "status": "ok",
     "timestamp": 1654989828705,
     "user": {
      "displayName": "Thanh Duong",
      "userId": "16342126098913789385"
     },
     "user_tz": 240
    },
    "id": "yu_YhZ0yE8B4"
   },
   "outputs": [],
   "source": []
  }
 ],
 "metadata": {
  "colab": {
   "authorship_tag": "ABX9TyMEMGupvktHAobUX7w/igjd",
   "collapsed_sections": [],
   "name": "Ex5_DuongThanh.ipynb",
   "provenance": []
  },
  "kernelspec": {
   "display_name": "Python 3",
   "language": "python",
   "name": "python3"
  },
  "language_info": {
   "codemirror_mode": {
    "name": "ipython",
    "version": 3
   },
   "file_extension": ".py",
   "mimetype": "text/x-python",
   "name": "python",
   "nbconvert_exporter": "python",
   "pygments_lexer": "ipython3",
   "version": "3.6.8"
  }
 },
 "nbformat": 4,
 "nbformat_minor": 1
}
